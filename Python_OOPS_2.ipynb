{
  "nbformat": 4,
  "nbformat_minor": 0,
  "metadata": {
    "colab": {
      "provenance": []
    },
    "kernelspec": {
      "name": "python3",
      "display_name": "Python 3"
    },
    "language_info": {
      "name": "python"
    }
  },
  "cells": [
    {
      "cell_type": "markdown",
      "source": [
        "Q1, Create a vehicle class with an init method having instance variables as name_of_vehicle, max_speed\n",
        "and average_of_vehicle."
      ],
      "metadata": {
        "id": "lVrJUv8SLA2Y"
      }
    },
    {
      "cell_type": "markdown",
      "source": [
        "Here is a Vehicle class with an __init__() method that initializes instance variables name_of_vehicle, max_speed, and average_of_vehicle:"
      ],
      "metadata": {
        "id": "GXc3KMBlLIFz"
      }
    },
    {
      "cell_type": "code",
      "source": [
        "class Vehicle:\n",
        "    def __init__(self, name_of_vehicle, max_speed, average_of_vehicle):\n",
        "        self.name_of_vehicle = name_of_vehicle\n",
        "        self.max_speed = max_speed\n",
        "        self.average_of_vehicle = average_of_vehicle\n",
        "\n",
        "    def display_details(self):\n",
        "        print(f\"Vehicle Name: {self.name_of_vehicle}\")\n",
        "        print(f\"Max Speed: {self.max_speed} km/h\")\n",
        "        print(f\"Average: {self.average_of_vehicle} km/l\")\n",
        "\n",
        "# Example usage:\n",
        "vehicle1 = Vehicle(\"Toyota Corolla\", 180, 15)\n",
        "vehicle1.display_details()\n"
      ],
      "metadata": {
        "colab": {
          "base_uri": "https://localhost:8080/"
        },
        "id": "wYKyLYxcLByE",
        "outputId": "b18071bc-c1a9-480b-b403-0874e67b2b0f"
      },
      "execution_count": 8,
      "outputs": [
        {
          "output_type": "stream",
          "name": "stdout",
          "text": [
            "Vehicle Name: Toyota Corolla\n",
            "Max Speed: 180 km/h\n",
            "Average: 15 km/l\n"
          ]
        }
      ]
    },
    {
      "cell_type": "markdown",
      "source": [
        "In this class:\n",
        "\n",
        "The __init__() method initializes the name_of_vehicle, max_speed, and average_of_vehicle attributes.\n",
        "The display_details() method is added to print the details of the vehicle.\n",
        "You can create instances of the Vehicle class and use the display_details() method to display their details."
      ],
      "metadata": {
        "id": "L_56_CNqLLrG"
      }
    },
    {
      "cell_type": "markdown",
      "source": [
        "Q2.  Create a child class car from the vehicle class created in Que 1, which will inherit the vehicle class.\n",
        "Create a method named seating_capacity which takes capacity as an argument and returns the name of\n",
        "the vehicle and its seating capacity."
      ],
      "metadata": {
        "id": "yEr1blfeLRp6"
      }
    },
    {
      "cell_type": "markdown",
      "source": [
        "Here is the implementation of a child class Car that inherits from the Vehicle class. The Car class includes a method seating_capacity() which takes capacity as an argument and returns the name of the vehicle along with its seating capacity."
      ],
      "metadata": {
        "id": "imZVjThqLhsE"
      }
    },
    {
      "cell_type": "code",
      "source": [
        "class Vehicle:\n",
        "    def __init__(self, name_of_vehicle, max_speed, average_of_vehicle):\n",
        "        self.name_of_vehicle = name_of_vehicle\n",
        "        self.max_speed = max_speed\n",
        "        self.average_of_vehicle = average_of_vehicle\n",
        "\n",
        "    def display_details(self):\n",
        "        print(f\"Vehicle Name: {self.name_of_vehicle}\")\n",
        "        print(f\"Max Speed: {self.max_speed} km/h\")\n",
        "        print(f\"Average: {self.average_of_vehicle} km/l\")\n",
        "\n",
        "class Car(Vehicle):\n",
        "    def seating_capacity(self, capacity):\n",
        "        return f\"The seating capacity of {self.name_of_vehicle} is {capacity} passengers.\"\n",
        "\n",
        "# Example usage:\n",
        "car1 = Car(\"Toyota Corolla\", 180, 15)\n",
        "car1.display_details()  # Displaying details inherited from the Vehicle class\n",
        "print(car1.seating_capacity(5))  # Output: The seating capacity of Toyota Corolla is 5 passengers.\n"
      ],
      "metadata": {
        "colab": {
          "base_uri": "https://localhost:8080/"
        },
        "id": "jKNmGw1uLQxC",
        "outputId": "d436834e-1ae6-4434-eff6-607fa8e8bd48"
      },
      "execution_count": 9,
      "outputs": [
        {
          "output_type": "stream",
          "name": "stdout",
          "text": [
            "Vehicle Name: Toyota Corolla\n",
            "Max Speed: 180 km/h\n",
            "Average: 15 km/l\n",
            "The seating capacity of Toyota Corolla is 5 passengers.\n"
          ]
        }
      ]
    },
    {
      "cell_type": "markdown",
      "source": [
        "In this code:\n",
        "\n",
        "The Car class inherits from the Vehicle class.\n",
        "The seating_capacity() method in the Car class takes a capacity argument and returns a string that includes the name_of_vehicle and the seating capacity.\n",
        "An example usage is provided to demonstrate creating an instance of the Car class and calling its methods."
      ],
      "metadata": {
        "id": "_jSfmCs4Lu8-"
      }
    },
    {
      "cell_type": "markdown",
      "source": [
        " **Q3. What is multiple inheritance? Write a python code to demonstrate multiple inheritance.**"
      ],
      "metadata": {
        "id": "uNH0sIX1Lx_5"
      }
    },
    {
      "cell_type": "markdown",
      "source": [
        "Multiple Inheritance\n",
        "Multiple inheritance is a feature of some object-oriented programming languages in which a class can inherit attributes and methods from more than one parent class. This allows a derived class to combine the functionality of multiple base classes.\n",
        "\n",
        "Example in Python\n",
        "Here is an example demonstrating multiple inheritance:"
      ],
      "metadata": {
        "id": "x_T2qqV5MBuS"
      }
    },
    {
      "cell_type": "code",
      "source": [
        "# Base class 1\n",
        "class Engine:\n",
        "    def __init__(self, engine_type):\n",
        "        self.engine_type = engine_type\n",
        "\n",
        "    def start_engine(self):\n",
        "        print(f\"The {self.engine_type} engine is starting.\")\n",
        "\n",
        "# Base class 2\n",
        "class Transmission:\n",
        "    def __init__(self, transmission_type):\n",
        "        self.transmission_type = transmission_type\n",
        "\n",
        "    def change_gear(self):\n",
        "        print(f\"The {self.transmission_type} transmission is changing gears.\")\n",
        "\n",
        "# Derived class\n",
        "class Car(Engine, Transmission):\n",
        "    def __init__(self, name_of_vehicle, max_speed, average_of_vehicle, engine_type, transmission_type):\n",
        "        # Initializing attributes of both parent classes\n",
        "        Engine.__init__(self, engine_type)\n",
        "        Transmission.__init__(self, transmission_type)\n",
        "        self.name_of_vehicle = name_of_vehicle\n",
        "        self.max_speed = max_speed\n",
        "        self.average_of_vehicle = average_of_vehicle\n",
        "\n",
        "    def display_details(self):\n",
        "        print(f\"Vehicle Name: {self.name_of_vehicle}\")\n",
        "        print(f\"Max Speed: {self.max_speed} km/h\")\n",
        "        print(f\"Average: {self.average_of_vehicle} km/l\")\n",
        "        print(f\"Engine Type: {self.engine_type}\")\n",
        "        print(f\"Transmission Type: {self.transmission_type}\")\n",
        "\n",
        "# Example usage:\n",
        "car1 = Car(\"Toyota Corolla\", 180, 15, \"V6\", \"Automatic\")\n",
        "car1.display_details()\n",
        "car1.start_engine()\n",
        "car1.change_gear()\n"
      ],
      "metadata": {
        "colab": {
          "base_uri": "https://localhost:8080/"
        },
        "id": "goc-nWQCLvuo",
        "outputId": "0527a480-1ece-4e5e-d40e-458c5715e625"
      },
      "execution_count": 10,
      "outputs": [
        {
          "output_type": "stream",
          "name": "stdout",
          "text": [
            "Vehicle Name: Toyota Corolla\n",
            "Max Speed: 180 km/h\n",
            "Average: 15 km/l\n",
            "Engine Type: V6\n",
            "Transmission Type: Automatic\n",
            "The V6 engine is starting.\n",
            "The Automatic transmission is changing gears.\n"
          ]
        }
      ]
    },
    {
      "cell_type": "markdown",
      "source": [
        "In this example:\n",
        "\n",
        "The Engine class and Transmission class are two base classes.\n",
        "The Car class inherits from both Engine and Transmission classes.\n",
        "The Car class initializes attributes from both parent classes and adds its own attributes.\n",
        "The display_details() method in the Car class displays details of the car, including inherited attributes.\n",
        "The start_engine() method from the Engine class and change_gear() method from the Transmission class are called using an instance of the Car class.\n",
        "This demonstrates how multiple inheritance allows a class to inherit and combine functionality from multiple base classes."
      ],
      "metadata": {
        "id": "p9KN7byJMH5X"
      }
    },
    {
      "cell_type": "markdown",
      "source": [
        " Q4. What are getter and setter in python? Create a class and create a getter and a setter method in this\n",
        "class."
      ],
      "metadata": {
        "id": "uk-wurzYMOcm"
      }
    },
    {
      "cell_type": "markdown",
      "source": [
        "\n",
        "Getters and Setters in Python\n",
        "Getters and setters are methods used to access and modify the private attributes of a class. They help in encapsulating the internal representation of an object, providing controlled access to its attributes. This ensures data integrity and hides the implementation details.\n",
        "\n",
        "Getter: A method that retrieves the value of an attribute.\n",
        "Setter: A method that sets or updates the value of an attribute.\n",
        "Example in Python\n",
        "Here is an example of a class with getter and setter methods:"
      ],
      "metadata": {
        "id": "D5KPY98wMbjt"
      }
    },
    {
      "cell_type": "code",
      "source": [
        "class Person:\n",
        "    def __init__(self, name, age):\n",
        "        self._name = name  # Private attribute\n",
        "        self._age = age    # Private attribute\n",
        "\n",
        "    # Getter method for name\n",
        "    @property\n",
        "    def name(self):\n",
        "        return self._name\n",
        "\n",
        "    # Setter method for name\n",
        "    @name.setter\n",
        "    def name(self, name):\n",
        "        if isinstance(name, str):\n",
        "            self._name = name\n",
        "        else:\n",
        "            raise ValueError(\"Name must be a string\")\n",
        "\n",
        "    # Getter method for age\n",
        "    @property\n",
        "    def age(self):\n",
        "        return self._age\n",
        "\n",
        "    # Setter method for age\n",
        "    @age.setter\n",
        "    def age(self, age):\n",
        "        if isinstance(age, int) and age > 0:\n",
        "            self._age = age\n",
        "        else:\n",
        "            raise ValueError(\"Age must be a positive integer\")\n",
        "\n",
        "# Example usage:\n",
        "person = Person(\"Alice\", 30)\n",
        "print(person.name)  # Output: Alice\n",
        "print(person.age)   # Output: 30\n",
        "\n",
        "person.name = \"Bob\"\n",
        "person.age = 35\n",
        "print(person.name)  # Output: Bob\n",
        "print(person.age)   # Output: 35\n",
        "\n",
        "# Attempting to set invalid values\n",
        "try:\n",
        "    person.name = 123  # Raises ValueError\n",
        "except ValueError as e:\n",
        "    print(e)  # Output: Name must be a string\n",
        "\n",
        "try:\n",
        "    person.age = -5  # Raises ValueError\n",
        "except ValueError as e:\n",
        "    print(e)  # Output: Age must be a positive integer\n"
      ],
      "metadata": {
        "colab": {
          "base_uri": "https://localhost:8080/"
        },
        "id": "wio73vRrMInz",
        "outputId": "b77153d4-e501-4bff-e698-2238ce30d2d4"
      },
      "execution_count": 11,
      "outputs": [
        {
          "output_type": "stream",
          "name": "stdout",
          "text": [
            "Alice\n",
            "30\n",
            "Bob\n",
            "35\n",
            "Name must be a string\n",
            "Age must be a positive integer\n"
          ]
        }
      ]
    },
    {
      "cell_type": "markdown",
      "source": [
        "Explanation\n",
        "Private Attributes: _name and _age are private attributes (indicated by the leading underscore).\n",
        "Getter Methods: The @property decorator is used to define the getter methods for name and age. These methods allow access to the private attributes.\n",
        "Setter Methods: The @name.setter and @age.setter decorators are used to define the setter methods for name and age. These methods include validation to ensure the attributes are set to valid values.\n",
        "This approach encapsulates the attributes and provides a controlled way to access and modify them"
      ],
      "metadata": {
        "id": "7iYOPtAMMgnt"
      }
    },
    {
      "cell_type": "markdown",
      "source": [
        " Q5.What is method overriding in python? Write a python code to demonstrate method overriding."
      ],
      "metadata": {
        "id": "w-BrrRUQMlRl"
      }
    },
    {
      "cell_type": "markdown",
      "source": [
        "\n",
        "Method Overriding in Python\n",
        "Method overriding is a feature in object-oriented programming that allows a subclass to provide a specific implementation of a method that is already defined in its superclass. The overridden method in the subclass has the same name, parameters, and return type as the method in the superclass.\n",
        "\n",
        "Purpose of Method Overriding:\n",
        "To Change or Extend the Behavior of the Superclass Method: By overriding a method, a subclass can provide its own implementation and modify or extend the functionality of the superclass method.\n",
        "Runtime Polymorphism: Method overriding is a way to achieve runtime polymorphism. When a method is called on an object, the version of the method that gets executed is determined by the type of the object."
      ],
      "metadata": {
        "id": "EV5JAckKMyyI"
      }
    },
    {
      "cell_type": "code",
      "source": [
        "class Animal:\n",
        "    def speak(self):\n",
        "        print(\"Animal makes a sound\")\n",
        "\n",
        "class Dog(Animal):\n",
        "    def speak(self):\n",
        "        print(\"Dog barks\")\n",
        "\n",
        "class Cat(Animal):\n",
        "    def speak(self):\n",
        "        print(\"Cat meows\")\n",
        "\n",
        "# Example usage:\n",
        "animal = Animal()\n",
        "dog = Dog()\n",
        "cat = Cat()\n",
        "\n",
        "animal.speak()  # Output: Animal makes a sound\n",
        "dog.speak()     # Output: Dog barks\n",
        "cat.speak()     # Output: Cat meows\n"
      ],
      "metadata": {
        "colab": {
          "base_uri": "https://localhost:8080/"
        },
        "id": "0CmXSwDcMkWB",
        "outputId": "17c75578-6cd2-43b2-ceb9-d42f1bb128da"
      },
      "execution_count": 12,
      "outputs": [
        {
          "output_type": "stream",
          "name": "stdout",
          "text": [
            "Animal makes a sound\n",
            "Dog barks\n",
            "Cat meows\n"
          ]
        }
      ]
    },
    {
      "cell_type": "markdown",
      "source": [
        "Explanation\n",
        "Superclass: The Animal class defines a method speak().\n",
        "Subclass (Dog): The Dog class inherits from Animal and overrides the speak() method to provide its own implementation.\n",
        "Subclass (Cat): The Cat class also inherits from Animal and overrides the speak() method with its own implementation.\n",
        "When speak() is called on instances of Animal, Dog, and Cat, the corresponding version of the method in each class is executed. This demonstrates method overriding, where the method in the subclass overrides the method in the superclass."
      ],
      "metadata": {
        "id": "9ub6Qb7lM7ad"
      }
    }
  ]
}